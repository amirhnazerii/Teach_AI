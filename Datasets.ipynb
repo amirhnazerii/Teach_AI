{
  "nbformat": 4,
  "nbformat_minor": 0,
  "metadata": {
    "colab": {
      "provenance": [],
      "authorship_tag": "ABX9TyO2OewWks2cKY3CHoFMHLP4",
      "include_colab_link": true
    },
    "kernelspec": {
      "name": "python3",
      "display_name": "Python 3"
    },
    "language_info": {
      "name": "python"
    }
  },
  "cells": [
    {
      "cell_type": "markdown",
      "metadata": {
        "id": "view-in-github",
        "colab_type": "text"
      },
      "source": [
        "<a href=\"https://colab.research.google.com/github/amirhnazerii/Teach_AI/blob/main/Datasets.ipynb\" target=\"_parent\"><img src=\"https://colab.research.google.com/assets/colab-badge.svg\" alt=\"Open In Colab\"/></a>"
      ]
    },
    {
      "cell_type": "markdown",
      "source": [
        "\n",
        "\n",
        "```\n",
        "# Notes by Amirhossein Nazeri\n",
        "```\n",
        "\n"
      ],
      "metadata": {
        "id": "1n_q_kwoA2rt"
      }
    },
    {
      "cell_type": "markdown",
      "source": [
        "###Convert: COCO to VOC dataset via FiftyOne package\n",
        "\n",
        "\n",
        "```\n",
        "#Download and load the validation split of COCO-2017\n",
        "foz.load_zoo_dataset(\"coco-2017\", split=\"validation\")\n",
        "\n",
        "# Mdify the name and path such that:\n",
        "Path input: /home/anazeri/fiftyone/coco-2017/validation\n",
        "validation/\n",
        "     data/\n",
        "            img1.jpg\n",
        "            img2.jpg\n",
        "            .\n",
        "            .\n",
        "            .\n",
        "     labels.json\n",
        "\n",
        "# Install pycocotools\n",
        "(fiftyone_env1) [anazeri@node1271 ~]$ pip install pycocotools\n",
        "\n",
        "```"
      ],
      "metadata": {
        "id": "q-QzLRPX8qOh"
      }
    },
    {
      "cell_type": "markdown",
      "source": [
        "Use \"fiftyone convert\"\"\n",
        "```\n",
        "fiftyone convert \\\n",
        "    --input-dir  \"/home/anazeri/fiftyone/coco-2017/validation\" --input-type fiftyone.types.COCODetectionDataset\\\n",
        "    --output-dir \"/home/anazeri/fiftyone/COCOtoVOC/VOC\" --output-type fiftyone.types.VOCDetectionDataset\n",
        "    ```\n",
        "\n"
      ],
      "metadata": {
        "id": "-t19pW8bAhbb"
      }
    },
    {
      "cell_type": "markdown",
      "source": [
        "```\n",
        "Installing collected packages: pycocotools\n",
        "Successfully installed pycocotools-2.0.7\n",
        "(fiftyone_env1) [anazeri@node1271 ~]$ fiftyone convert     --input-dir  \"/home/anazeri/fiftyone/coco-2017/validation\" --input-type fiftyone.types.COCODetectionDataset    --output-dir \"/home/anazeri/fiftyone/COCOtoVOC/VOC\" --output-type fiftyone.types.VOCDetectionDataset\n",
        "```\n",
        "\n"
      ],
      "metadata": {
        "id": "VfvTzU8hALmK"
      }
    },
    {
      "cell_type": "code",
      "source": [],
      "metadata": {
        "id": "9mRVxB6bAZlu"
      },
      "execution_count": null,
      "outputs": []
    }
  ]
}